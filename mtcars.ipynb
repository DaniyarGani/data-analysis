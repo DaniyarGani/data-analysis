{
 "cells": [
  {
   "cell_type": "code",
   "execution_count": null,
   "metadata": {},
   "outputs": [],
   "source": [
    "#%%\n",
    "import psycopg2\n",
    "\n",
    "import pandas as pd\n",
    "import numpy as np\n",
    "\n",
    "con = psycopg2.connect(\n",
    "   host = \"localhost\",\n",
    "   database = \"mtcars\",\n",
    "   user = \"postgres\",\n",
    "   password = \"123\" \n",
    ")\n",
    "\n",
    "query = \"SELECT * FROM mtcars;\"\n",
    "df = pd.read_sql_query(query, con)\n",
    "\n",
    "print(df)\n",
    "# %%\n",
    "\n"
   ]
  }
 ],
 "metadata": {
  "language_info": {
   "name": "python"
  },
  "orig_nbformat": 4
 },
 "nbformat": 4,
 "nbformat_minor": 2
}
